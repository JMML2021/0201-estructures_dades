{
  "nbformat": 4,
  "nbformat_minor": 0,
  "metadata": {
    "colab": {
      "name": "notas presentacion Elena.ipynb",
      "provenance": [],
      "authorship_tag": "ABX9TyNNRevESi26PQLPNclq//p1",
      "include_colab_link": true
    },
    "kernelspec": {
      "name": "python3",
      "display_name": "Python 3"
    },
    "language_info": {
      "name": "python"
    }
  },
  "cells": [
    {
      "cell_type": "markdown",
      "metadata": {
        "id": "view-in-github",
        "colab_type": "text"
      },
      "source": [
        "<a href=\"https://colab.research.google.com/github/JMML2021/0201-estructures_dades/blob/main/notas_presentacion_Elena.ipynb\" target=\"_parent\"><img src=\"https://colab.research.google.com/assets/colab-badge.svg\" alt=\"Open In Colab\"/></a>"
      ]
    },
    {
      "cell_type": "code",
      "execution_count": null,
      "metadata": {
        "id": "2tHdqJxnF2Dj"
      },
      "outputs": [],
      "source": [
        ""
      ]
    },
    {
      "cell_type": "markdown",
      "source": [
        "Proyecto de Elena\n",
        "\n",
        "https://github.com/ElenaML81/TalentSquad_DataScienceI/blob/main/%20Talent%20Squad_Data%20Science%20I.ipynb"
      ],
      "metadata": {
        "id": "17Ue_3hwF2oW"
      }
    },
    {
      "cell_type": "markdown",
      "source": [
        "Poner un registro de requeriment para saber la version que utilizas en las importaciones."
      ],
      "metadata": {
        "id": "KAYU0WN8GFJW"
      }
    }
  ]
}