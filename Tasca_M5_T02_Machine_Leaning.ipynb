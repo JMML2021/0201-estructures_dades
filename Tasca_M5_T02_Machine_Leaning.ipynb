{
  "nbformat": 4,
  "nbformat_minor": 0,
  "metadata": {
    "colab": {
      "name": "Tasca M5 T02 Machine Leaning.ipynb",
      "provenance": [],
      "mount_file_id": "1Yj2MSQHQNpmMowcxlK-1mbCajMSm0laV",
      "authorship_tag": "ABX9TyOryYATWlgZtuI3M6ZrwT2a",
      "include_colab_link": true
    },
    "kernelspec": {
      "name": "python3",
      "display_name": "Python 3"
    },
    "language_info": {
      "name": "python"
    }
  },
  "cells": [
    {
      "cell_type": "markdown",
      "metadata": {
        "id": "view-in-github",
        "colab_type": "text"
      },
      "source": [
        "<a href=\"https://colab.research.google.com/github/JMML2021/0201-estructures_dades/blob/main/Tasca_M5_T02_Machine_Leaning.ipynb\" target=\"_parent\"><img src=\"https://colab.research.google.com/assets/colab-badge.svg\" alt=\"Open In Colab\"/></a>"
      ]
    },
    {
      "cell_type": "markdown",
      "source": [
        "# Exercici 1\n",
        "\n",
        "Parteix el conjunt de dades adjunt en train i test. Estudia els dos conjunts per separat, a nivell descriptiu.\n",
        "\n",
        "També adjunt trobaràs una descripció de les diferents variables del dataset."
      ],
      "metadata": {
        "id": "OWrg8CnAg-OZ"
      }
    },
    {
      "cell_type": "markdown",
      "source": [
        "https://www.kaggle.com/code/prasadperera/the-boston-housing-dataset"
      ],
      "metadata": {
        "id": "p5cwtb9smz1A"
      }
    },
    {
      "cell_type": "code",
      "source": [
        "# Tratamiento de datos\n",
        "# ==============================================================================\n",
        "import pandas as pd\n",
        "import numpy as np\n",
        "\n",
        "# Gráficos\n",
        "# ==============================================================================\n",
        "import matplotlib.pyplot as plt\n",
        "from matplotlib import style\n",
        "import seaborn as sns\n",
        "\n",
        "# Preprocesado y análisis\n",
        "# ==============================================================================\n",
        "import statsmodels.api as sm\n",
        "from scipy import stats\n",
        "\n",
        "# Configuración matplotlib\n",
        "# ==============================================================================\n",
        "plt.style.use('ggplot')\n",
        "\n",
        "# Configuración warnings\n",
        "# ==============================================================================\n",
        "import warnings\n",
        "warnings.filterwarnings('ignore')"
      ],
      "metadata": {
        "id": "Ebv-oW1_iq69"
      },
      "execution_count": 22,
      "outputs": []
    },
    {
      "cell_type": "code",
      "execution_count": 23,
      "metadata": {
        "colab": {
          "base_uri": "https://localhost:8080/"
        },
        "id": "zCP_deXKgzso",
        "outputId": "79704649-16b5-4cf4-c203-d2dd0ba1a3e9"
      },
      "outputs": [
        {
          "output_type": "stream",
          "name": "stdout",
          "text": [
            "Drive already mounted at /content/drive; to attempt to forcibly remount, call drive.mount(\"/content/drive\", force_remount=True).\n"
          ]
        }
      ],
      "source": [
        "# Activo Google Drive\n",
        "\n",
        "from google.colab import drive\n",
        "drive.mount('/content/drive')"
      ]
    },
    {
      "cell_type": "code",
      "source": [
        "# Abro el fichero una vez adecuado\n",
        "\n",
        "#path='https://drive.google.com/file/d/1j8WdhTxMpngrUigfcfrJynng-9JHo9xa/view?usp=sharing'\n",
        "path = ('/content/drive/MyDrive/01_COLAB/housing data.csv')\n",
        "#data = pd.read_csv(file,\n",
        "    \n",
        "df=  pd.read_csv(path, sep=',', encoding=\"latin-1\")\n",
        "df.shape\n",
        "\n",
        "nRow, nCol = df.shape\n",
        "print(f'Hay  {nRow} filas con {nCol} columnas')\n",
        "df1=df.copy()\n",
        "df1.iloc[0]"
      ],
      "metadata": {
        "colab": {
          "base_uri": "https://localhost:8080/"
        },
        "id": "En7ngu-Fg38L",
        "outputId": "4a05ca40-4f83-47ca-fd89-fbb2488a5d75"
      },
      "execution_count": 24,
      "outputs": [
        {
          "output_type": "stream",
          "name": "stdout",
          "text": [
            "Hay  505 filas con 14 columnas\n"
          ]
        },
        {
          "output_type": "execute_result",
          "data": {
            "text/plain": [
              "0.00632      0.02731\n",
              "18.00        0.00000\n",
              "2.310        7.07000\n",
              "0            0.00000\n",
              "0.5380       0.46900\n",
              "6.5750       6.42100\n",
              "65.20       78.90000\n",
              "4.0900       4.96710\n",
              "1            2.00000\n",
              "296.0      242.00000\n",
              "15.30       17.80000\n",
              "396.90     396.90000\n",
              "4.98         9.14000\n",
              "24.00       21.60000\n",
              "Name: 0, dtype: float64"
            ]
          },
          "metadata": {},
          "execution_count": 24
        }
      ]
    },
    {
      "cell_type": "markdown",
      "source": [
        "Veo que es un fichero sin nombre en las columnas. Utilizo el fichero de TXT e identifico los nombres de las columnas."
      ],
      "metadata": {
        "id": "azPLgMC1kpGo"
      }
    },
    {
      "cell_type": "code",
      "source": [
        "nombre_Columnas = ['CRIM', 'ZN', 'INDUS', 'CHAS', 'NOX', 'RM', 'AGE', 'DIS', 'RAD', 'TAX', 'PTRATIO', 'B', 'LSTAT', 'MEDV']\n",
        "\n",
        "df1.columns = [Nombre_Columnas]\n",
        "df1.iloc[0]"
      ],
      "metadata": {
        "colab": {
          "base_uri": "https://localhost:8080/"
        },
        "id": "Dh0fahFLkLNB",
        "outputId": "ca9f01e1-06ce-4741-a9d9-3bf927d9c08f"
      },
      "execution_count": 25,
      "outputs": [
        {
          "output_type": "execute_result",
          "data": {
            "text/plain": [
              "CRIM         0.02731\n",
              "ZN           0.00000\n",
              "INDUS        7.07000\n",
              "CHAS         0.00000\n",
              "NOX          0.46900\n",
              "RM           6.42100\n",
              "AGE         78.90000\n",
              "DIS          4.96710\n",
              "RAD          2.00000\n",
              "TAX        242.00000\n",
              "PTRATIO     17.80000\n",
              "B          396.90000\n",
              "LSTAT        9.14000\n",
              "MEDV        21.60000\n",
              "Name: 0, dtype: float64"
            ]
          },
          "metadata": {},
          "execution_count": 25
        }
      ]
    },
    {
      "cell_type": "code",
      "source": [
        "# Analizo los datos\n",
        "print(df1.describe())"
      ],
      "metadata": {
        "colab": {
          "base_uri": "https://localhost:8080/"
        },
        "id": "ZebhCdvNlAJZ",
        "outputId": "4d8d5d46-54c8-4236-f7e2-d9a05f64122f"
      },
      "execution_count": 26,
      "outputs": [
        {
          "output_type": "stream",
          "name": "stdout",
          "text": [
            "             CRIM          ZN       INDUS        CHAS         NOX          RM  \\\n",
            "count  505.000000  505.000000  505.000000  505.000000  505.000000  505.000000   \n",
            "mean     3.620667   11.350495   11.154257    0.069307    0.554728    6.284059   \n",
            "std      8.608572   23.343704    6.855868    0.254227    0.115990    0.703195   \n",
            "min      0.009060    0.000000    0.460000    0.000000    0.385000    3.561000   \n",
            "25%      0.082210    0.000000    5.190000    0.000000    0.449000    5.885000   \n",
            "50%      0.259150    0.000000    9.690000    0.000000    0.538000    6.208000   \n",
            "75%      3.678220   12.500000   18.100000    0.000000    0.624000    6.625000   \n",
            "max     88.976200  100.000000   27.740000    1.000000    0.871000    8.780000   \n",
            "\n",
            "              AGE         DIS         RAD         TAX     PTRATIO           B  \\\n",
            "count  505.000000  505.000000  505.000000  505.000000  505.000000  505.000000   \n",
            "mean    68.581584    3.794459    9.566337  408.459406   18.461782  356.594376   \n",
            "std     28.176371    2.107757    8.707553  168.629992    2.162520   91.367787   \n",
            "min      2.900000    1.129600    1.000000  187.000000   12.600000    0.320000   \n",
            "25%     45.000000    2.100000    4.000000  279.000000   17.400000  375.330000   \n",
            "50%     77.700000    3.199200    5.000000  330.000000   19.100000  391.430000   \n",
            "75%     94.100000    5.211900   24.000000  666.000000   20.200000  396.210000   \n",
            "max    100.000000   12.126500   24.000000  711.000000   22.000000  396.900000   \n",
            "\n",
            "            LSTAT        MEDV  \n",
            "count  505.000000  505.000000  \n",
            "mean    12.668257   22.529901  \n",
            "std      7.139950    9.205991  \n",
            "min      1.730000    5.000000  \n",
            "25%      7.010000   17.000000  \n",
            "50%     11.380000   21.200000  \n",
            "75%     16.960000   25.000000  \n",
            "max     37.970000   50.000000  \n"
          ]
        }
      ]
    },
    {
      "cell_type": "code",
      "source": [
        "df1.info() "
      ],
      "metadata": {
        "colab": {
          "base_uri": "https://localhost:8080/"
        },
        "id": "NEJlvk35m5d6",
        "outputId": "b9aff0a5-d663-4207-e656-c169e7ebac29"
      },
      "execution_count": 28,
      "outputs": [
        {
          "output_type": "stream",
          "name": "stdout",
          "text": [
            "<class 'pandas.core.frame.DataFrame'>\n",
            "RangeIndex: 505 entries, 0 to 504\n",
            "Data columns (total 14 columns):\n",
            " #   Column      Non-Null Count  Dtype  \n",
            "---  ------      --------------  -----  \n",
            " 0   (CRIM,)     505 non-null    float64\n",
            " 1   (ZN,)       505 non-null    float64\n",
            " 2   (INDUS,)    505 non-null    float64\n",
            " 3   (CHAS,)     505 non-null    int64  \n",
            " 4   (NOX,)      505 non-null    float64\n",
            " 5   (RM,)       505 non-null    float64\n",
            " 6   (AGE,)      505 non-null    float64\n",
            " 7   (DIS,)      505 non-null    float64\n",
            " 8   (RAD,)      505 non-null    int64  \n",
            " 9   (TAX,)      505 non-null    float64\n",
            " 10  (PTRATIO,)  505 non-null    float64\n",
            " 11  (B,)        505 non-null    float64\n",
            " 12  (LSTAT,)    505 non-null    float64\n",
            " 13  (MEDV,)     505 non-null    float64\n",
            "dtypes: float64(12), int64(2)\n",
            "memory usage: 55.4 KB\n"
          ]
        }
      ]
    }
  ]
}