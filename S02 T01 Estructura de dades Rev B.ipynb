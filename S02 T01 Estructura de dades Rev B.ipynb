{
 "cells": [
  {
   "cell_type": "markdown",
   "metadata": {},
   "source": [
    "# - Exercici 1"
   ]
  },
  {
   "cell_type": "markdown",
   "metadata": {},
   "source": [
    "Crea una llista que agrupi els mesos de l’any en trimestres (1T: Gener, Febrer i Març, 2T: Abril, Maig, Juny...), és a dir, una llista amb 4 llistes dins."
   ]
  },
  {
   "cell_type": "code",
   "execution_count": 23,
   "metadata": {},
   "outputs": [
    {
     "data": {
      "text/plain": [
       "['Septembre', 'Octubre', 'Novembre', 'Decembre']"
      ]
     },
     "execution_count": 23,
     "metadata": {},
     "output_type": "execute_result"
    }
   ],
   "source": [
    "trimestres = [['Gener', 'Febrer', 'Març', 'Abril'], \n",
    "              ['Maig', 'June', 'Juliol', 'Agost'],\n",
    "              ['Septembre', 'Octubre', 'Novembre', 'Decembre'] ]\n",
    "trimestres[2]"
   ]
  },
  {
   "cell_type": "markdown",
   "metadata": {},
   "source": [
    "# - Exercici 2"
   ]
  },
  {
   "cell_type": "markdown",
   "metadata": {},
   "source": [
    "\n",
    "Crea un codi que et permeti accedir a:\n",
    "\n",
    "El segon mes del primer trimestre\n",
    "Els mesos del primer trimestre\n",
    "Setembre i octubre"
   ]
  },
  {
   "cell_type": "code",
   "execution_count": 24,
   "metadata": {},
   "outputs": [
    {
     "name": "stdout",
     "output_type": "stream",
     "text": [
      "Febrer\n",
      "['Gener', 'Febrer', 'Març', 'Abril']\n",
      "['Septembre', 'Octubre']\n"
     ]
    }
   ],
   "source": [
    "print(trimestres[0][1])\n",
    "print(trimestres[0])\n",
    "print(trimestres[2][0:2])"
   ]
  },
  {
   "cell_type": "markdown",
   "metadata": {},
   "source": [
    "# - Exercici 3"
   ]
  },
  {
   "cell_type": "markdown",
   "metadata": {},
   "source": [
    "Crea una llista amb nombres desordenats i respon a les següents preguntes:\n",
    "\n",
    "Quants números hi ha?\n",
    "Quantes vegades apareix el número 3\n",
    "Quantes vegades apareixen els nombres 3 i 4?\n",
    "Quin és el número més gran?\n",
    "Quins són els 3 números més petits?\n",
    "Quin és el rang d’aquesta llista?"
   ]
  },
  {
   "cell_type": "markdown",
   "metadata": {},
   "source": [
    "Crea una llista amb nombres desordenats i respon a les següents preguntes:"
   ]
  },
  {
   "cell_type": "code",
   "execution_count": 25,
   "metadata": {},
   "outputs": [],
   "source": [
    "lista = [2,4,8,2,4,7,9,12,34,3,6,92]\n"
   ]
  },
  {
   "cell_type": "markdown",
   "metadata": {},
   "source": [
    "Quants números hi ha?"
   ]
  },
  {
   "cell_type": "code",
   "execution_count": 26,
   "metadata": {},
   "outputs": [
    {
     "name": "stdout",
     "output_type": "stream",
     "text": [
      "Total de números son:  12\n"
     ]
    }
   ],
   "source": [
    "print('Total de números son: ',len(lista))"
   ]
  },
  {
   "cell_type": "markdown",
   "metadata": {},
   "source": [
    "Quantes vegades apareix el número 3"
   ]
  },
  {
   "cell_type": "code",
   "execution_count": 27,
   "metadata": {},
   "outputs": [
    {
     "data": {
      "text/plain": [
       "1"
      ]
     },
     "execution_count": 27,
     "metadata": {},
     "output_type": "execute_result"
    }
   ],
   "source": [
    "lista.count(3)"
   ]
  },
  {
   "cell_type": "markdown",
   "metadata": {},
   "source": [
    "Quantes vegades apareixen els nombres 3 i 4?"
   ]
  },
  {
   "cell_type": "code",
   "execution_count": 28,
   "metadata": {},
   "outputs": [
    {
     "data": {
      "text/plain": [
       "3"
      ]
     },
     "execution_count": 28,
     "metadata": {},
     "output_type": "execute_result"
    }
   ],
   "source": [
    "lista.count(3)+lista.count(4)"
   ]
  },
  {
   "cell_type": "code",
   "execution_count": 29,
   "metadata": {},
   "outputs": [
    {
     "name": "stdout",
     "output_type": "stream",
     "text": [
      "Object `gran` not found.\n"
     ]
    }
   ],
   "source": [
    "Quin és el número més gran?"
   ]
  },
  {
   "cell_type": "code",
   "execution_count": null,
   "metadata": {},
   "outputs": [],
   "source": [
    "Quin és el número més gran"
   ]
  },
  {
   "cell_type": "code",
   "execution_count": 30,
   "metadata": {},
   "outputs": [
    {
     "name": "stdout",
     "output_type": "stream",
     "text": [
      "El maximo es:  92\n",
      "los numeros únicos son:  [2, 3, 4, 6, 7, 8, 9, 12, 34, 92]\n",
      "Los 3 numeros más altos son:  [12, 34, 92]\n"
     ]
    }
   ],
   "source": [
    "print('El maximo es: ', max(lista))\n",
    "#Creo una lista unica\n",
    "\n",
    "llista_unica = list(dict.fromkeys(lista))\n",
    "llista_unica.sort()\n",
    "print('los numeros únicos son: ', llista_unica)\n",
    "\n",
    "\n",
    "print('Los 3 numeros más altos son: ',llista_unica[-3:])"
   ]
  },
  {
   "cell_type": "code",
   "execution_count": 31,
   "metadata": {},
   "outputs": [
    {
     "name": "stdout",
     "output_type": "stream",
     "text": [
      "Los 3 numeros más pequeños son:  [2, 3, 4]\n",
      "EL rango va de:  2  al  92\n"
     ]
    }
   ],
   "source": [
    "#Quins són els 3 números més petits?\n",
    "print('Los 3 numeros más pequeños son: ',llista_unica[:3])\n",
    "\n",
    "#Quin és el rang d’aquesta llista?\n",
    "print('EL rango va de: ', llista_unica[0], ' al ',  llista_unica[-1])\n"
   ]
  },
  {
   "cell_type": "markdown",
   "metadata": {},
   "source": [
    "# Exercici 4"
   ]
  },
  {
   "cell_type": "markdown",
   "metadata": {},
   "source": [
    "Exercici 4\n",
    "Crea un diccionari de la següent forma i respon a les preguntes:\n",
    "\n",
    "compra = { \"Pomes\" : {\"Qty\": 5, \"€\": 0.42}, \"Peres\" : {\"Qty\": 3, \"€\": 0.66} }\n",
    "\n",
    "Afegeix alguna fruita més\n",
    "Quant han costat les peres en total?\n",
    "Quantes fruites hem comprat en total?\n",
    "Quina és la fruita més cara?"
   ]
  },
  {
   "cell_type": "code",
   "execution_count": 32,
   "metadata": {},
   "outputs": [],
   "source": [
    "compra = { \"Pomes\" : {\"Qty\": 5, \"€\": 0.42}, \"Peres\" : {\"Qty\": 3, \"€\": 0.66} }"
   ]
  },
  {
   "cell_type": "code",
   "execution_count": 33,
   "metadata": {},
   "outputs": [
    {
     "name": "stdout",
     "output_type": "stream",
     "text": [
      "Listado de las frutas\n"
     ]
    },
    {
     "data": {
      "text/plain": [
       "{'Pomes': {'Qty': 5, '€': 0.42},\n",
       " 'Peres': {'Qty': 3, '€': 0.66},\n",
       " 'melon': {'Qty': 5, '€': 8},\n",
       " 'melocoton': {'Qty': 23, '€': 1}}"
      ]
     },
     "execution_count": 33,
     "metadata": {},
     "output_type": "execute_result"
    }
   ],
   "source": [
    "compra['melon']= {\"Qty\": 5, \"€\": 8}\n",
    "compra['melocoton']= {\"Qty\": 23, \"€\": 1}\n",
    "\n",
    "print('Listado de las frutas')\n",
    "compra"
   ]
  },
  {
   "cell_type": "code",
   "execution_count": 34,
   "metadata": {},
   "outputs": [],
   "source": [
    "# Creo lista de las claves del diccionario\n",
    "clave = list(compra.keys())\n",
    "#print(clave)"
   ]
  },
  {
   "cell_type": "code",
   "execution_count": 35,
   "metadata": {},
   "outputs": [
    {
     "name": "stdout",
     "output_type": "stream",
     "text": [
      "Quant han costat les peres en total?  1.98\n",
      "Quantes fruites hem comprat en total?  4 que son  13  piezas de fruta\n",
      "Quina és la fruita més cara?  melon  con un valor máximo con precio de: 8 €\n"
     ]
    }
   ],
   "source": [
    "maximo = 0\n",
    "fruta = ''\n",
    "total = 0\n",
    "piezas = 0\n",
    "for x in clave:\n",
    "    if compra[x]['€']> maximo:\n",
    "        maximo = compra[x]['€']\n",
    "        fruta = x\n",
    "        piezas += compra[x]['Qty'] \n",
    "        \n",
    "        \n",
    "print('Quant han costat les peres en total? ', compra['Peres']['Qty']*compra['Peres']['€'])\n",
    "print('Quantes fruites hem comprat en total? ', len(clave), 'que son ', piezas, ' piezas de fruta')\n",
    "print('Quina és la fruita més cara? ', fruta,' con un valor máximo con precio de:', maximo, '€')"
   ]
  }
 ],
 "metadata": {
  "kernelspec": {
   "display_name": "Python 3",
   "language": "python",
   "name": "python3"
  },
  "language_info": {
   "codemirror_mode": {
    "name": "ipython",
    "version": 3
   },
   "file_extension": ".py",
   "mimetype": "text/x-python",
   "name": "python",
   "nbconvert_exporter": "python",
   "pygments_lexer": "ipython3",
   "version": "3.7.6"
  }
 },
 "nbformat": 4,
 "nbformat_minor": 4
}
