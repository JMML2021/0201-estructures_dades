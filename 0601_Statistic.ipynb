{
  "nbformat": 4,
  "nbformat_minor": 0,
  "metadata": {
    "colab": {
      "name": "0601_Statistic.ipynb",
      "provenance": [],
      "toc_visible": true,
      "authorship_tag": "ABX9TyOMzxbIrZ0/pdAJgsSn5p7j",
      "include_colab_link": true
    },
    "kernelspec": {
      "name": "python3",
      "display_name": "Python 3"
    },
    "language_info": {
      "name": "python"
    }
  },
  "cells": [
    {
      "cell_type": "markdown",
      "metadata": {
        "id": "view-in-github",
        "colab_type": "text"
      },
      "source": [
        "<a href=\"https://colab.research.google.com/github/JMML2021/0201-estructures_dades/blob/main/0601_Statistic.ipynb\" target=\"_parent\"><img src=\"https://colab.research.google.com/assets/colab-badge.svg\" alt=\"Open In Colab\"/></a>"
      ]
    },
    {
      "cell_type": "markdown",
      "source": [
        "# - Exercici 1\n",
        "Agafa un conjunt de dades de tema esportiu que t'agradi i selecciona un atribut del conjunt de dades. Calcula la moda, la mediana, la desviació estàndard i la mitjana aritmètica. "
      ],
      "metadata": {
        "id": "CH7yJeWjW27X"
      }
    },
    {
      "cell_type": "code",
      "execution_count": null,
      "metadata": {
        "id": "0_9CBYWhWz7V"
      },
      "outputs": [],
      "source": [
        "- Exercici 1\n",
        "Agafa un conjunt de dades de tema esportiu que t'agradi i selecciona un atribut del conjunt de dades. Calcula la moda, la mediana, la desviació estàndard i la mitjana aritmètica. "
      ]
    },
    {
      "cell_type": "code",
      "source": [
        "import numpy as np\n",
        "import pandas as pd\n",
        "import matplotlib.pyplot as plt\n",
        "import seaborn as sns\n",
        "import warnings\n",
        "import scipy.stats as stats\n",
        "warnings.filterwarnings('ignore')"
      ],
      "metadata": {
        "id": "JFy8j0AMi4uS"
      },
      "execution_count": 3,
      "outputs": []
    },
    {
      "cell_type": "code",
      "source": [
        "# Activo Google Drive\n",
        "\n",
        "from google.colab import drive\n",
        "drive.mount('/content/drive')"
      ],
      "metadata": {
        "colab": {
          "base_uri": "https://localhost:8080/"
        },
        "id": "2owLbEZyjWgT",
        "outputId": "26c052d7-699a-45e7-e17a-728c8c63a545"
      },
      "execution_count": 8,
      "outputs": [
        {
          "output_type": "stream",
          "name": "stdout",
          "text": [
            "Mounted at /content/drive\n"
          ]
        }
      ]
    },
    {
      "cell_type": "code",
      "source": [
        "import os\n",
        "os.environ['KAGGLE_CONFIG_DIR'] = '/content/drive/MyDrive/01_COLAB/kaggle.json'"
      ],
      "metadata": {
        "id": "wXIgmcMCjdar"
      },
      "execution_count": 9,
      "outputs": []
    },
    {
      "cell_type": "code",
      "source": [
        "# Abro el fichero una vez adecuado\n",
        "\n",
        "path = ('/content/drive/MyDrive/01_COLAB/resultsFutbol.csv')\n",
        "df=  pd.read_csv(path)\n",
        "df.shape\n",
        "\n",
        "nRow, nCol = df.shape\n",
        "print(f'Hay  {nRow} filas con {nCol} columnas')"
      ],
      "metadata": {
        "colab": {
          "base_uri": "https://localhost:8080/"
        },
        "id": "fY3J4lfnj0Mc",
        "outputId": "0796ede8-c03f-46f8-baed-1ddcbb8b86d3"
      },
      "execution_count": 16,
      "outputs": [
        {
          "output_type": "stream",
          "name": "stdout",
          "text": [
            "Hay  41243 filas con 9 columnas\n"
          ]
        }
      ]
    },
    {
      "cell_type": "code",
      "source": [
        "df.head()"
      ],
      "metadata": {
        "colab": {
          "base_uri": "https://localhost:8080/",
          "height": 206
        },
        "id": "YdSVPGCck5Ip",
        "outputId": "c4c10fbb-532b-4be2-b07d-b7d57fd19464"
      },
      "execution_count": 17,
      "outputs": [
        {
          "output_type": "execute_result",
          "data": {
            "text/plain": [
              "         date home_team away_team  home_score  away_score tournament     city  \\\n",
              "0  1872-11-30  Scotland   England           0           0   Friendly  Glasgow   \n",
              "1  1873-03-08   England  Scotland           4           2   Friendly   London   \n",
              "2  1874-03-07  Scotland   England           2           1   Friendly  Glasgow   \n",
              "3  1875-03-06   England  Scotland           2           2   Friendly   London   \n",
              "4  1876-03-04  Scotland   England           3           0   Friendly  Glasgow   \n",
              "\n",
              "    country  neutral  \n",
              "0  Scotland    False  \n",
              "1   England    False  \n",
              "2  Scotland    False  \n",
              "3   England    False  \n",
              "4  Scotland    False  "
            ],
            "text/html": [
              "\n",
              "  <div id=\"df-0a832422-411e-4d94-ba4b-217f50801fb8\">\n",
              "    <div class=\"colab-df-container\">\n",
              "      <div>\n",
              "<style scoped>\n",
              "    .dataframe tbody tr th:only-of-type {\n",
              "        vertical-align: middle;\n",
              "    }\n",
              "\n",
              "    .dataframe tbody tr th {\n",
              "        vertical-align: top;\n",
              "    }\n",
              "\n",
              "    .dataframe thead th {\n",
              "        text-align: right;\n",
              "    }\n",
              "</style>\n",
              "<table border=\"1\" class=\"dataframe\">\n",
              "  <thead>\n",
              "    <tr style=\"text-align: right;\">\n",
              "      <th></th>\n",
              "      <th>date</th>\n",
              "      <th>home_team</th>\n",
              "      <th>away_team</th>\n",
              "      <th>home_score</th>\n",
              "      <th>away_score</th>\n",
              "      <th>tournament</th>\n",
              "      <th>city</th>\n",
              "      <th>country</th>\n",
              "      <th>neutral</th>\n",
              "    </tr>\n",
              "  </thead>\n",
              "  <tbody>\n",
              "    <tr>\n",
              "      <th>0</th>\n",
              "      <td>1872-11-30</td>\n",
              "      <td>Scotland</td>\n",
              "      <td>England</td>\n",
              "      <td>0</td>\n",
              "      <td>0</td>\n",
              "      <td>Friendly</td>\n",
              "      <td>Glasgow</td>\n",
              "      <td>Scotland</td>\n",
              "      <td>False</td>\n",
              "    </tr>\n",
              "    <tr>\n",
              "      <th>1</th>\n",
              "      <td>1873-03-08</td>\n",
              "      <td>England</td>\n",
              "      <td>Scotland</td>\n",
              "      <td>4</td>\n",
              "      <td>2</td>\n",
              "      <td>Friendly</td>\n",
              "      <td>London</td>\n",
              "      <td>England</td>\n",
              "      <td>False</td>\n",
              "    </tr>\n",
              "    <tr>\n",
              "      <th>2</th>\n",
              "      <td>1874-03-07</td>\n",
              "      <td>Scotland</td>\n",
              "      <td>England</td>\n",
              "      <td>2</td>\n",
              "      <td>1</td>\n",
              "      <td>Friendly</td>\n",
              "      <td>Glasgow</td>\n",
              "      <td>Scotland</td>\n",
              "      <td>False</td>\n",
              "    </tr>\n",
              "    <tr>\n",
              "      <th>3</th>\n",
              "      <td>1875-03-06</td>\n",
              "      <td>England</td>\n",
              "      <td>Scotland</td>\n",
              "      <td>2</td>\n",
              "      <td>2</td>\n",
              "      <td>Friendly</td>\n",
              "      <td>London</td>\n",
              "      <td>England</td>\n",
              "      <td>False</td>\n",
              "    </tr>\n",
              "    <tr>\n",
              "      <th>4</th>\n",
              "      <td>1876-03-04</td>\n",
              "      <td>Scotland</td>\n",
              "      <td>England</td>\n",
              "      <td>3</td>\n",
              "      <td>0</td>\n",
              "      <td>Friendly</td>\n",
              "      <td>Glasgow</td>\n",
              "      <td>Scotland</td>\n",
              "      <td>False</td>\n",
              "    </tr>\n",
              "  </tbody>\n",
              "</table>\n",
              "</div>\n",
              "      <button class=\"colab-df-convert\" onclick=\"convertToInteractive('df-0a832422-411e-4d94-ba4b-217f50801fb8')\"\n",
              "              title=\"Convert this dataframe to an interactive table.\"\n",
              "              style=\"display:none;\">\n",
              "        \n",
              "  <svg xmlns=\"http://www.w3.org/2000/svg\" height=\"24px\"viewBox=\"0 0 24 24\"\n",
              "       width=\"24px\">\n",
              "    <path d=\"M0 0h24v24H0V0z\" fill=\"none\"/>\n",
              "    <path d=\"M18.56 5.44l.94 2.06.94-2.06 2.06-.94-2.06-.94-.94-2.06-.94 2.06-2.06.94zm-11 1L8.5 8.5l.94-2.06 2.06-.94-2.06-.94L8.5 2.5l-.94 2.06-2.06.94zm10 10l.94 2.06.94-2.06 2.06-.94-2.06-.94-.94-2.06-.94 2.06-2.06.94z\"/><path d=\"M17.41 7.96l-1.37-1.37c-.4-.4-.92-.59-1.43-.59-.52 0-1.04.2-1.43.59L10.3 9.45l-7.72 7.72c-.78.78-.78 2.05 0 2.83L4 21.41c.39.39.9.59 1.41.59.51 0 1.02-.2 1.41-.59l7.78-7.78 2.81-2.81c.8-.78.8-2.07 0-2.86zM5.41 20L4 18.59l7.72-7.72 1.47 1.35L5.41 20z\"/>\n",
              "  </svg>\n",
              "      </button>\n",
              "      \n",
              "  <style>\n",
              "    .colab-df-container {\n",
              "      display:flex;\n",
              "      flex-wrap:wrap;\n",
              "      gap: 12px;\n",
              "    }\n",
              "\n",
              "    .colab-df-convert {\n",
              "      background-color: #E8F0FE;\n",
              "      border: none;\n",
              "      border-radius: 50%;\n",
              "      cursor: pointer;\n",
              "      display: none;\n",
              "      fill: #1967D2;\n",
              "      height: 32px;\n",
              "      padding: 0 0 0 0;\n",
              "      width: 32px;\n",
              "    }\n",
              "\n",
              "    .colab-df-convert:hover {\n",
              "      background-color: #E2EBFA;\n",
              "      box-shadow: 0px 1px 2px rgba(60, 64, 67, 0.3), 0px 1px 3px 1px rgba(60, 64, 67, 0.15);\n",
              "      fill: #174EA6;\n",
              "    }\n",
              "\n",
              "    [theme=dark] .colab-df-convert {\n",
              "      background-color: #3B4455;\n",
              "      fill: #D2E3FC;\n",
              "    }\n",
              "\n",
              "    [theme=dark] .colab-df-convert:hover {\n",
              "      background-color: #434B5C;\n",
              "      box-shadow: 0px 1px 3px 1px rgba(0, 0, 0, 0.15);\n",
              "      filter: drop-shadow(0px 1px 2px rgba(0, 0, 0, 0.3));\n",
              "      fill: #FFFFFF;\n",
              "    }\n",
              "  </style>\n",
              "\n",
              "      <script>\n",
              "        const buttonEl =\n",
              "          document.querySelector('#df-0a832422-411e-4d94-ba4b-217f50801fb8 button.colab-df-convert');\n",
              "        buttonEl.style.display =\n",
              "          google.colab.kernel.accessAllowed ? 'block' : 'none';\n",
              "\n",
              "        async function convertToInteractive(key) {\n",
              "          const element = document.querySelector('#df-0a832422-411e-4d94-ba4b-217f50801fb8');\n",
              "          const dataTable =\n",
              "            await google.colab.kernel.invokeFunction('convertToInteractive',\n",
              "                                                     [key], {});\n",
              "          if (!dataTable) return;\n",
              "\n",
              "          const docLinkHtml = 'Like what you see? Visit the ' +\n",
              "            '<a target=\"_blank\" href=https://colab.research.google.com/notebooks/data_table.ipynb>data table notebook</a>'\n",
              "            + ' to learn more about interactive tables.';\n",
              "          element.innerHTML = '';\n",
              "          dataTable['output_type'] = 'display_data';\n",
              "          await google.colab.output.renderOutput(dataTable, element);\n",
              "          const docLink = document.createElement('div');\n",
              "          docLink.innerHTML = docLinkHtml;\n",
              "          element.appendChild(docLink);\n",
              "        }\n",
              "      </script>\n",
              "    </div>\n",
              "  </div>\n",
              "  "
            ]
          },
          "metadata": {},
          "execution_count": 17
        }
      ]
    },
    {
      "cell_type": "code",
      "source": [
        "resultado['resultado']= df['home_score']\n",
        "resultado.head()"
      ],
      "metadata": {
        "colab": {
          "base_uri": "https://localhost:8080/"
        },
        "id": "DWwMjv8Jj4mb",
        "outputId": "d9dad137-83ac-469b-f8d8-de624a21320f"
      },
      "execution_count": 15,
      "outputs": [
        {
          "output_type": "execute_result",
          "data": {
            "text/plain": [
              "0    0\n",
              "1    4\n",
              "2    2\n",
              "3    2\n",
              "4    3\n",
              "Name: home_score, dtype: object"
            ]
          },
          "metadata": {},
          "execution_count": 15
        }
      ]
    },
    {
      "cell_type": "code",
      "source": [
        "# Se ve claramente en los extremos perdemos la informacion importantes\n",
        "\n",
        "df2=df.groupby('country', as_index=False).agg({'home_score': \"sum\", 'home_score':'count', 'home_score': 'mean'})\n",
        "df2.head()"
      ],
      "metadata": {
        "colab": {
          "base_uri": "https://localhost:8080/",
          "height": 206
        },
        "id": "ZW0HqEkkkx7L",
        "outputId": "bad30f7f-5263-46e4-a542-55bbb5f6161b"
      },
      "execution_count": 22,
      "outputs": [
        {
          "output_type": "execute_result",
          "data": {
            "text/plain": [
              "       country  home_score\n",
              "0  Afghanistan    0.875000\n",
              "1      Albania    1.100000\n",
              "2      Algeria    1.851485\n",
              "3      Andorra    0.365079\n",
              "4       Angola    1.532468"
            ],
            "text/html": [
              "\n",
              "  <div id=\"df-05e05da0-f60b-40a2-8f8a-a61640d896fc\">\n",
              "    <div class=\"colab-df-container\">\n",
              "      <div>\n",
              "<style scoped>\n",
              "    .dataframe tbody tr th:only-of-type {\n",
              "        vertical-align: middle;\n",
              "    }\n",
              "\n",
              "    .dataframe tbody tr th {\n",
              "        vertical-align: top;\n",
              "    }\n",
              "\n",
              "    .dataframe thead th {\n",
              "        text-align: right;\n",
              "    }\n",
              "</style>\n",
              "<table border=\"1\" class=\"dataframe\">\n",
              "  <thead>\n",
              "    <tr style=\"text-align: right;\">\n",
              "      <th></th>\n",
              "      <th>country</th>\n",
              "      <th>home_score</th>\n",
              "    </tr>\n",
              "  </thead>\n",
              "  <tbody>\n",
              "    <tr>\n",
              "      <th>0</th>\n",
              "      <td>Afghanistan</td>\n",
              "      <td>0.875000</td>\n",
              "    </tr>\n",
              "    <tr>\n",
              "      <th>1</th>\n",
              "      <td>Albania</td>\n",
              "      <td>1.100000</td>\n",
              "    </tr>\n",
              "    <tr>\n",
              "      <th>2</th>\n",
              "      <td>Algeria</td>\n",
              "      <td>1.851485</td>\n",
              "    </tr>\n",
              "    <tr>\n",
              "      <th>3</th>\n",
              "      <td>Andorra</td>\n",
              "      <td>0.365079</td>\n",
              "    </tr>\n",
              "    <tr>\n",
              "      <th>4</th>\n",
              "      <td>Angola</td>\n",
              "      <td>1.532468</td>\n",
              "    </tr>\n",
              "  </tbody>\n",
              "</table>\n",
              "</div>\n",
              "      <button class=\"colab-df-convert\" onclick=\"convertToInteractive('df-05e05da0-f60b-40a2-8f8a-a61640d896fc')\"\n",
              "              title=\"Convert this dataframe to an interactive table.\"\n",
              "              style=\"display:none;\">\n",
              "        \n",
              "  <svg xmlns=\"http://www.w3.org/2000/svg\" height=\"24px\"viewBox=\"0 0 24 24\"\n",
              "       width=\"24px\">\n",
              "    <path d=\"M0 0h24v24H0V0z\" fill=\"none\"/>\n",
              "    <path d=\"M18.56 5.44l.94 2.06.94-2.06 2.06-.94-2.06-.94-.94-2.06-.94 2.06-2.06.94zm-11 1L8.5 8.5l.94-2.06 2.06-.94-2.06-.94L8.5 2.5l-.94 2.06-2.06.94zm10 10l.94 2.06.94-2.06 2.06-.94-2.06-.94-.94-2.06-.94 2.06-2.06.94z\"/><path d=\"M17.41 7.96l-1.37-1.37c-.4-.4-.92-.59-1.43-.59-.52 0-1.04.2-1.43.59L10.3 9.45l-7.72 7.72c-.78.78-.78 2.05 0 2.83L4 21.41c.39.39.9.59 1.41.59.51 0 1.02-.2 1.41-.59l7.78-7.78 2.81-2.81c.8-.78.8-2.07 0-2.86zM5.41 20L4 18.59l7.72-7.72 1.47 1.35L5.41 20z\"/>\n",
              "  </svg>\n",
              "      </button>\n",
              "      \n",
              "  <style>\n",
              "    .colab-df-container {\n",
              "      display:flex;\n",
              "      flex-wrap:wrap;\n",
              "      gap: 12px;\n",
              "    }\n",
              "\n",
              "    .colab-df-convert {\n",
              "      background-color: #E8F0FE;\n",
              "      border: none;\n",
              "      border-radius: 50%;\n",
              "      cursor: pointer;\n",
              "      display: none;\n",
              "      fill: #1967D2;\n",
              "      height: 32px;\n",
              "      padding: 0 0 0 0;\n",
              "      width: 32px;\n",
              "    }\n",
              "\n",
              "    .colab-df-convert:hover {\n",
              "      background-color: #E2EBFA;\n",
              "      box-shadow: 0px 1px 2px rgba(60, 64, 67, 0.3), 0px 1px 3px 1px rgba(60, 64, 67, 0.15);\n",
              "      fill: #174EA6;\n",
              "    }\n",
              "\n",
              "    [theme=dark] .colab-df-convert {\n",
              "      background-color: #3B4455;\n",
              "      fill: #D2E3FC;\n",
              "    }\n",
              "\n",
              "    [theme=dark] .colab-df-convert:hover {\n",
              "      background-color: #434B5C;\n",
              "      box-shadow: 0px 1px 3px 1px rgba(0, 0, 0, 0.15);\n",
              "      filter: drop-shadow(0px 1px 2px rgba(0, 0, 0, 0.3));\n",
              "      fill: #FFFFFF;\n",
              "    }\n",
              "  </style>\n",
              "\n",
              "      <script>\n",
              "        const buttonEl =\n",
              "          document.querySelector('#df-05e05da0-f60b-40a2-8f8a-a61640d896fc button.colab-df-convert');\n",
              "        buttonEl.style.display =\n",
              "          google.colab.kernel.accessAllowed ? 'block' : 'none';\n",
              "\n",
              "        async function convertToInteractive(key) {\n",
              "          const element = document.querySelector('#df-05e05da0-f60b-40a2-8f8a-a61640d896fc');\n",
              "          const dataTable =\n",
              "            await google.colab.kernel.invokeFunction('convertToInteractive',\n",
              "                                                     [key], {});\n",
              "          if (!dataTable) return;\n",
              "\n",
              "          const docLinkHtml = 'Like what you see? Visit the ' +\n",
              "            '<a target=\"_blank\" href=https://colab.research.google.com/notebooks/data_table.ipynb>data table notebook</a>'\n",
              "            + ' to learn more about interactive tables.';\n",
              "          element.innerHTML = '';\n",
              "          dataTable['output_type'] = 'display_data';\n",
              "          await google.colab.output.renderOutput(dataTable, element);\n",
              "          const docLink = document.createElement('div');\n",
              "          docLink.innerHTML = docLinkHtml;\n",
              "          element.appendChild(docLink);\n",
              "        }\n",
              "      </script>\n",
              "    </div>\n",
              "  </div>\n",
              "  "
            ]
          },
          "metadata": {},
          "execution_count": 22
        }
      ]
    },
    {
      "cell_type": "markdown",
      "source": [
        "# Nivell 2\n",
        "- Exercici 3\n",
        "Continuant amb les dades de tema esportiu, calcula la correlació de tots els atributs entre sí i representa'ls en una matriu amb diferents colors d'intensitat."
      ],
      "metadata": {
        "id": "5xOzDR-elmZm"
      }
    },
    {
      "cell_type": "code",
      "source": [
        ""
      ],
      "metadata": {
        "id": "dXCwKWX6lvFK"
      },
      "execution_count": null,
      "outputs": []
    },
    {
      "cell_type": "markdown",
      "source": [
        "# Nueva sección"
      ],
      "metadata": {
        "id": "itAp7FN9mQ-p"
      }
    },
    {
      "cell_type": "markdown",
      "source": [
        "# - Exercici 2\n",
        "Continuant amb les dades de tema esportiu, selecciona dos atributs i calcula'n la seva correlació."
      ],
      "metadata": {
        "id": "2Wf4GbHLmXHU"
      }
    },
    {
      "cell_type": "code",
      "source": [
        "!pip install sidetable"
      ],
      "metadata": {
        "colab": {
          "base_uri": "https://localhost:8080/"
        },
        "id": "DI7o31Y3m73t",
        "outputId": "171ac049-7943-45b3-c54c-86502801dd07"
      },
      "execution_count": 24,
      "outputs": [
        {
          "output_type": "stream",
          "name": "stdout",
          "text": [
            "Looking in indexes: https://pypi.org/simple, https://us-python.pkg.dev/colab-wheels/public/simple/\n",
            "Collecting sidetable\n",
            "  Downloading sidetable-0.9.0-py3-none-any.whl (17 kB)\n",
            "Requirement already satisfied: pandas>=1.0 in /usr/local/lib/python3.7/dist-packages (from sidetable) (1.3.5)\n",
            "Requirement already satisfied: python-dateutil>=2.7.3 in /usr/local/lib/python3.7/dist-packages (from pandas>=1.0->sidetable) (2.8.2)\n",
            "Requirement already satisfied: numpy>=1.17.3 in /usr/local/lib/python3.7/dist-packages (from pandas>=1.0->sidetable) (1.21.6)\n",
            "Requirement already satisfied: pytz>=2017.3 in /usr/local/lib/python3.7/dist-packages (from pandas>=1.0->sidetable) (2022.1)\n",
            "Requirement already satisfied: six>=1.5 in /usr/local/lib/python3.7/dist-packages (from python-dateutil>=2.7.3->pandas>=1.0->sidetable) (1.15.0)\n",
            "Installing collected packages: sidetable\n",
            "Successfully installed sidetable-0.9.0\n"
          ]
        }
      ]
    },
    {
      "cell_type": "code",
      "source": [
        "# Obtener la frecuencia de ocurrencia con Sidetable\n",
        "# y nos quedamos con los 10 paises con mas partidos\n",
        "\n",
        "import sidetable as stb\n",
        "df.stb.freq(['home_team'])\n",
        "\n",
        "df1=df[0:9]\n",
        "df1.head()"
      ],
      "metadata": {
        "colab": {
          "base_uri": "https://localhost:8080/",
          "height": 206
        },
        "id": "udBzWCnQmzOf",
        "outputId": "54d9e21d-2654-4396-f8e8-91e27e0a5886"
      },
      "execution_count": 28,
      "outputs": [
        {
          "output_type": "execute_result",
          "data": {
            "text/plain": [
              "         date home_team away_team  home_score  away_score tournament     city  \\\n",
              "0  1872-11-30  Scotland   England           0           0   Friendly  Glasgow   \n",
              "1  1873-03-08   England  Scotland           4           2   Friendly   London   \n",
              "2  1874-03-07  Scotland   England           2           1   Friendly  Glasgow   \n",
              "3  1875-03-06   England  Scotland           2           2   Friendly   London   \n",
              "4  1876-03-04  Scotland   England           3           0   Friendly  Glasgow   \n",
              "\n",
              "    country  neutral  \n",
              "0  Scotland    False  \n",
              "1   England    False  \n",
              "2  Scotland    False  \n",
              "3   England    False  \n",
              "4  Scotland    False  "
            ],
            "text/html": [
              "\n",
              "  <div id=\"df-5ff0b53f-07b2-4a3d-88a8-56fbb8ecce6d\">\n",
              "    <div class=\"colab-df-container\">\n",
              "      <div>\n",
              "<style scoped>\n",
              "    .dataframe tbody tr th:only-of-type {\n",
              "        vertical-align: middle;\n",
              "    }\n",
              "\n",
              "    .dataframe tbody tr th {\n",
              "        vertical-align: top;\n",
              "    }\n",
              "\n",
              "    .dataframe thead th {\n",
              "        text-align: right;\n",
              "    }\n",
              "</style>\n",
              "<table border=\"1\" class=\"dataframe\">\n",
              "  <thead>\n",
              "    <tr style=\"text-align: right;\">\n",
              "      <th></th>\n",
              "      <th>date</th>\n",
              "      <th>home_team</th>\n",
              "      <th>away_team</th>\n",
              "      <th>home_score</th>\n",
              "      <th>away_score</th>\n",
              "      <th>tournament</th>\n",
              "      <th>city</th>\n",
              "      <th>country</th>\n",
              "      <th>neutral</th>\n",
              "    </tr>\n",
              "  </thead>\n",
              "  <tbody>\n",
              "    <tr>\n",
              "      <th>0</th>\n",
              "      <td>1872-11-30</td>\n",
              "      <td>Scotland</td>\n",
              "      <td>England</td>\n",
              "      <td>0</td>\n",
              "      <td>0</td>\n",
              "      <td>Friendly</td>\n",
              "      <td>Glasgow</td>\n",
              "      <td>Scotland</td>\n",
              "      <td>False</td>\n",
              "    </tr>\n",
              "    <tr>\n",
              "      <th>1</th>\n",
              "      <td>1873-03-08</td>\n",
              "      <td>England</td>\n",
              "      <td>Scotland</td>\n",
              "      <td>4</td>\n",
              "      <td>2</td>\n",
              "      <td>Friendly</td>\n",
              "      <td>London</td>\n",
              "      <td>England</td>\n",
              "      <td>False</td>\n",
              "    </tr>\n",
              "    <tr>\n",
              "      <th>2</th>\n",
              "      <td>1874-03-07</td>\n",
              "      <td>Scotland</td>\n",
              "      <td>England</td>\n",
              "      <td>2</td>\n",
              "      <td>1</td>\n",
              "      <td>Friendly</td>\n",
              "      <td>Glasgow</td>\n",
              "      <td>Scotland</td>\n",
              "      <td>False</td>\n",
              "    </tr>\n",
              "    <tr>\n",
              "      <th>3</th>\n",
              "      <td>1875-03-06</td>\n",
              "      <td>England</td>\n",
              "      <td>Scotland</td>\n",
              "      <td>2</td>\n",
              "      <td>2</td>\n",
              "      <td>Friendly</td>\n",
              "      <td>London</td>\n",
              "      <td>England</td>\n",
              "      <td>False</td>\n",
              "    </tr>\n",
              "    <tr>\n",
              "      <th>4</th>\n",
              "      <td>1876-03-04</td>\n",
              "      <td>Scotland</td>\n",
              "      <td>England</td>\n",
              "      <td>3</td>\n",
              "      <td>0</td>\n",
              "      <td>Friendly</td>\n",
              "      <td>Glasgow</td>\n",
              "      <td>Scotland</td>\n",
              "      <td>False</td>\n",
              "    </tr>\n",
              "  </tbody>\n",
              "</table>\n",
              "</div>\n",
              "      <button class=\"colab-df-convert\" onclick=\"convertToInteractive('df-5ff0b53f-07b2-4a3d-88a8-56fbb8ecce6d')\"\n",
              "              title=\"Convert this dataframe to an interactive table.\"\n",
              "              style=\"display:none;\">\n",
              "        \n",
              "  <svg xmlns=\"http://www.w3.org/2000/svg\" height=\"24px\"viewBox=\"0 0 24 24\"\n",
              "       width=\"24px\">\n",
              "    <path d=\"M0 0h24v24H0V0z\" fill=\"none\"/>\n",
              "    <path d=\"M18.56 5.44l.94 2.06.94-2.06 2.06-.94-2.06-.94-.94-2.06-.94 2.06-2.06.94zm-11 1L8.5 8.5l.94-2.06 2.06-.94-2.06-.94L8.5 2.5l-.94 2.06-2.06.94zm10 10l.94 2.06.94-2.06 2.06-.94-2.06-.94-.94-2.06-.94 2.06-2.06.94z\"/><path d=\"M17.41 7.96l-1.37-1.37c-.4-.4-.92-.59-1.43-.59-.52 0-1.04.2-1.43.59L10.3 9.45l-7.72 7.72c-.78.78-.78 2.05 0 2.83L4 21.41c.39.39.9.59 1.41.59.51 0 1.02-.2 1.41-.59l7.78-7.78 2.81-2.81c.8-.78.8-2.07 0-2.86zM5.41 20L4 18.59l7.72-7.72 1.47 1.35L5.41 20z\"/>\n",
              "  </svg>\n",
              "      </button>\n",
              "      \n",
              "  <style>\n",
              "    .colab-df-container {\n",
              "      display:flex;\n",
              "      flex-wrap:wrap;\n",
              "      gap: 12px;\n",
              "    }\n",
              "\n",
              "    .colab-df-convert {\n",
              "      background-color: #E8F0FE;\n",
              "      border: none;\n",
              "      border-radius: 50%;\n",
              "      cursor: pointer;\n",
              "      display: none;\n",
              "      fill: #1967D2;\n",
              "      height: 32px;\n",
              "      padding: 0 0 0 0;\n",
              "      width: 32px;\n",
              "    }\n",
              "\n",
              "    .colab-df-convert:hover {\n",
              "      background-color: #E2EBFA;\n",
              "      box-shadow: 0px 1px 2px rgba(60, 64, 67, 0.3), 0px 1px 3px 1px rgba(60, 64, 67, 0.15);\n",
              "      fill: #174EA6;\n",
              "    }\n",
              "\n",
              "    [theme=dark] .colab-df-convert {\n",
              "      background-color: #3B4455;\n",
              "      fill: #D2E3FC;\n",
              "    }\n",
              "\n",
              "    [theme=dark] .colab-df-convert:hover {\n",
              "      background-color: #434B5C;\n",
              "      box-shadow: 0px 1px 3px 1px rgba(0, 0, 0, 0.15);\n",
              "      filter: drop-shadow(0px 1px 2px rgba(0, 0, 0, 0.3));\n",
              "      fill: #FFFFFF;\n",
              "    }\n",
              "  </style>\n",
              "\n",
              "      <script>\n",
              "        const buttonEl =\n",
              "          document.querySelector('#df-5ff0b53f-07b2-4a3d-88a8-56fbb8ecce6d button.colab-df-convert');\n",
              "        buttonEl.style.display =\n",
              "          google.colab.kernel.accessAllowed ? 'block' : 'none';\n",
              "\n",
              "        async function convertToInteractive(key) {\n",
              "          const element = document.querySelector('#df-5ff0b53f-07b2-4a3d-88a8-56fbb8ecce6d');\n",
              "          const dataTable =\n",
              "            await google.colab.kernel.invokeFunction('convertToInteractive',\n",
              "                                                     [key], {});\n",
              "          if (!dataTable) return;\n",
              "\n",
              "          const docLinkHtml = 'Like what you see? Visit the ' +\n",
              "            '<a target=\"_blank\" href=https://colab.research.google.com/notebooks/data_table.ipynb>data table notebook</a>'\n",
              "            + ' to learn more about interactive tables.';\n",
              "          element.innerHTML = '';\n",
              "          dataTable['output_type'] = 'display_data';\n",
              "          await google.colab.output.renderOutput(dataTable, element);\n",
              "          const docLink = document.createElement('div');\n",
              "          docLink.innerHTML = docLinkHtml;\n",
              "          element.appendChild(docLink);\n",
              "        }\n",
              "      </script>\n",
              "    </div>\n",
              "  </div>\n",
              "  "
            ]
          },
          "metadata": {},
          "execution_count": 28
        }
      ]
    },
    {
      "cell_type": "code",
      "source": [
        "# Apilar los __DataFrames__ uno encima del otro\n",
        "paisesApilados = pd.concat([df['home_team'], df['away_team']], axis=0)\n",
        " \n",
        "paisesApilados = pd.DataFrame(paisesApilados, columns = ['paises'])\n",
        "\n",
        "df5= paisesApilados.stb.freq(['paises'])\n",
        "df5= df5[:10]\n",
        "df5\n",
        "#type(paisesApilados)"
      ],
      "metadata": {
        "colab": {
          "base_uri": "https://localhost:8080/",
          "height": 362
        },
        "id": "AIymH7fRoNCf",
        "outputId": "ae5ca377-0358-471f-adcb-0f4772cef525"
      },
      "execution_count": 51,
      "outputs": [
        {
          "output_type": "execute_result",
          "data": {
            "text/plain": [
              "        paises  count   percent  cumulative_count  cumulative_percent\n",
              "0       Sweden   1014  1.229300              1014            1.229300\n",
              "1      England    998  1.209902              2012            2.439202\n",
              "2       Brazil    981  1.189293              2993            3.628495\n",
              "3    Argentina    979  1.186868              3972            4.815363\n",
              "4      Germany    946  1.146861              4918            5.962224\n",
              "5      Hungary    926  1.122615              5844            7.084839\n",
              "6      Uruguay    882  1.069272              6726            8.154111\n",
              "7       Mexico    867  1.051087              7593            9.205198\n",
              "8  South Korea    854  1.035327              8447           10.240526\n",
              "9       France    838  1.015930              9285           11.256456"
            ],
            "text/html": [
              "\n",
              "  <div id=\"df-0dcd1f46-3a1f-4c92-8ba9-52e8acbc40bc\">\n",
              "    <div class=\"colab-df-container\">\n",
              "      <div>\n",
              "<style scoped>\n",
              "    .dataframe tbody tr th:only-of-type {\n",
              "        vertical-align: middle;\n",
              "    }\n",
              "\n",
              "    .dataframe tbody tr th {\n",
              "        vertical-align: top;\n",
              "    }\n",
              "\n",
              "    .dataframe thead th {\n",
              "        text-align: right;\n",
              "    }\n",
              "</style>\n",
              "<table border=\"1\" class=\"dataframe\">\n",
              "  <thead>\n",
              "    <tr style=\"text-align: right;\">\n",
              "      <th></th>\n",
              "      <th>paises</th>\n",
              "      <th>count</th>\n",
              "      <th>percent</th>\n",
              "      <th>cumulative_count</th>\n",
              "      <th>cumulative_percent</th>\n",
              "    </tr>\n",
              "  </thead>\n",
              "  <tbody>\n",
              "    <tr>\n",
              "      <th>0</th>\n",
              "      <td>Sweden</td>\n",
              "      <td>1014</td>\n",
              "      <td>1.229300</td>\n",
              "      <td>1014</td>\n",
              "      <td>1.229300</td>\n",
              "    </tr>\n",
              "    <tr>\n",
              "      <th>1</th>\n",
              "      <td>England</td>\n",
              "      <td>998</td>\n",
              "      <td>1.209902</td>\n",
              "      <td>2012</td>\n",
              "      <td>2.439202</td>\n",
              "    </tr>\n",
              "    <tr>\n",
              "      <th>2</th>\n",
              "      <td>Brazil</td>\n",
              "      <td>981</td>\n",
              "      <td>1.189293</td>\n",
              "      <td>2993</td>\n",
              "      <td>3.628495</td>\n",
              "    </tr>\n",
              "    <tr>\n",
              "      <th>3</th>\n",
              "      <td>Argentina</td>\n",
              "      <td>979</td>\n",
              "      <td>1.186868</td>\n",
              "      <td>3972</td>\n",
              "      <td>4.815363</td>\n",
              "    </tr>\n",
              "    <tr>\n",
              "      <th>4</th>\n",
              "      <td>Germany</td>\n",
              "      <td>946</td>\n",
              "      <td>1.146861</td>\n",
              "      <td>4918</td>\n",
              "      <td>5.962224</td>\n",
              "    </tr>\n",
              "    <tr>\n",
              "      <th>5</th>\n",
              "      <td>Hungary</td>\n",
              "      <td>926</td>\n",
              "      <td>1.122615</td>\n",
              "      <td>5844</td>\n",
              "      <td>7.084839</td>\n",
              "    </tr>\n",
              "    <tr>\n",
              "      <th>6</th>\n",
              "      <td>Uruguay</td>\n",
              "      <td>882</td>\n",
              "      <td>1.069272</td>\n",
              "      <td>6726</td>\n",
              "      <td>8.154111</td>\n",
              "    </tr>\n",
              "    <tr>\n",
              "      <th>7</th>\n",
              "      <td>Mexico</td>\n",
              "      <td>867</td>\n",
              "      <td>1.051087</td>\n",
              "      <td>7593</td>\n",
              "      <td>9.205198</td>\n",
              "    </tr>\n",
              "    <tr>\n",
              "      <th>8</th>\n",
              "      <td>South Korea</td>\n",
              "      <td>854</td>\n",
              "      <td>1.035327</td>\n",
              "      <td>8447</td>\n",
              "      <td>10.240526</td>\n",
              "    </tr>\n",
              "    <tr>\n",
              "      <th>9</th>\n",
              "      <td>France</td>\n",
              "      <td>838</td>\n",
              "      <td>1.015930</td>\n",
              "      <td>9285</td>\n",
              "      <td>11.256456</td>\n",
              "    </tr>\n",
              "  </tbody>\n",
              "</table>\n",
              "</div>\n",
              "      <button class=\"colab-df-convert\" onclick=\"convertToInteractive('df-0dcd1f46-3a1f-4c92-8ba9-52e8acbc40bc')\"\n",
              "              title=\"Convert this dataframe to an interactive table.\"\n",
              "              style=\"display:none;\">\n",
              "        \n",
              "  <svg xmlns=\"http://www.w3.org/2000/svg\" height=\"24px\"viewBox=\"0 0 24 24\"\n",
              "       width=\"24px\">\n",
              "    <path d=\"M0 0h24v24H0V0z\" fill=\"none\"/>\n",
              "    <path d=\"M18.56 5.44l.94 2.06.94-2.06 2.06-.94-2.06-.94-.94-2.06-.94 2.06-2.06.94zm-11 1L8.5 8.5l.94-2.06 2.06-.94-2.06-.94L8.5 2.5l-.94 2.06-2.06.94zm10 10l.94 2.06.94-2.06 2.06-.94-2.06-.94-.94-2.06-.94 2.06-2.06.94z\"/><path d=\"M17.41 7.96l-1.37-1.37c-.4-.4-.92-.59-1.43-.59-.52 0-1.04.2-1.43.59L10.3 9.45l-7.72 7.72c-.78.78-.78 2.05 0 2.83L4 21.41c.39.39.9.59 1.41.59.51 0 1.02-.2 1.41-.59l7.78-7.78 2.81-2.81c.8-.78.8-2.07 0-2.86zM5.41 20L4 18.59l7.72-7.72 1.47 1.35L5.41 20z\"/>\n",
              "  </svg>\n",
              "      </button>\n",
              "      \n",
              "  <style>\n",
              "    .colab-df-container {\n",
              "      display:flex;\n",
              "      flex-wrap:wrap;\n",
              "      gap: 12px;\n",
              "    }\n",
              "\n",
              "    .colab-df-convert {\n",
              "      background-color: #E8F0FE;\n",
              "      border: none;\n",
              "      border-radius: 50%;\n",
              "      cursor: pointer;\n",
              "      display: none;\n",
              "      fill: #1967D2;\n",
              "      height: 32px;\n",
              "      padding: 0 0 0 0;\n",
              "      width: 32px;\n",
              "    }\n",
              "\n",
              "    .colab-df-convert:hover {\n",
              "      background-color: #E2EBFA;\n",
              "      box-shadow: 0px 1px 2px rgba(60, 64, 67, 0.3), 0px 1px 3px 1px rgba(60, 64, 67, 0.15);\n",
              "      fill: #174EA6;\n",
              "    }\n",
              "\n",
              "    [theme=dark] .colab-df-convert {\n",
              "      background-color: #3B4455;\n",
              "      fill: #D2E3FC;\n",
              "    }\n",
              "\n",
              "    [theme=dark] .colab-df-convert:hover {\n",
              "      background-color: #434B5C;\n",
              "      box-shadow: 0px 1px 3px 1px rgba(0, 0, 0, 0.15);\n",
              "      filter: drop-shadow(0px 1px 2px rgba(0, 0, 0, 0.3));\n",
              "      fill: #FFFFFF;\n",
              "    }\n",
              "  </style>\n",
              "\n",
              "      <script>\n",
              "        const buttonEl =\n",
              "          document.querySelector('#df-0dcd1f46-3a1f-4c92-8ba9-52e8acbc40bc button.colab-df-convert');\n",
              "        buttonEl.style.display =\n",
              "          google.colab.kernel.accessAllowed ? 'block' : 'none';\n",
              "\n",
              "        async function convertToInteractive(key) {\n",
              "          const element = document.querySelector('#df-0dcd1f46-3a1f-4c92-8ba9-52e8acbc40bc');\n",
              "          const dataTable =\n",
              "            await google.colab.kernel.invokeFunction('convertToInteractive',\n",
              "                                                     [key], {});\n",
              "          if (!dataTable) return;\n",
              "\n",
              "          const docLinkHtml = 'Like what you see? Visit the ' +\n",
              "            '<a target=\"_blank\" href=https://colab.research.google.com/notebooks/data_table.ipynb>data table notebook</a>'\n",
              "            + ' to learn more about interactive tables.';\n",
              "          element.innerHTML = '';\n",
              "          dataTable['output_type'] = 'display_data';\n",
              "          await google.colab.output.renderOutput(dataTable, element);\n",
              "          const docLink = document.createElement('div');\n",
              "          docLink.innerHTML = docLinkHtml;\n",
              "          element.appendChild(docLink);\n",
              "        }\n",
              "      </script>\n",
              "    </div>\n",
              "  </div>\n",
              "  "
            ]
          },
          "metadata": {},
          "execution_count": 51
        }
      ]
    },
    {
      "cell_type": "code",
      "source": [
        "np.corrcoef (df['home_score'], df['away_score'])"
      ],
      "metadata": {
        "colab": {
          "base_uri": "https://localhost:8080/"
        },
        "id": "uXo-2elgrQGX",
        "outputId": "55793821-5c61-4e73-8b6e-e0ab0922be00"
      },
      "execution_count": 57,
      "outputs": [
        {
          "output_type": "execute_result",
          "data": {
            "text/plain": [
              "array([[ 1.        , -0.13513968],\n",
              "       [-0.13513968,  1.        ]])"
            ]
          },
          "metadata": {},
          "execution_count": 57
        }
      ]
    },
    {
      "cell_type": "code",
      "source": [
        ""
      ],
      "metadata": {
        "id": "2NqryLO_stDD"
      },
      "execution_count": null,
      "outputs": []
    },
    {
      "cell_type": "markdown",
      "source": [
        "![image.png](data:image/png;base64,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)"
      ],
      "metadata": {
        "id": "8NnwgC4YuzoO"
      }
    },
    {
      "cell_type": "markdown",
      "source": [
        "omo0 se ve en el grafico no existe ningna correlacion aparente.\n",
        "El resultado es una r= -0.135 que es un valor bajo.\n",
        "\n",
        "Podemos considerar que es totalmente aleatorio\n",
        "\n",
        "El valor de p es 0 ( 2.5208049949778622e-167)\n",
        "\n",
        "\n",
        "Dado que este valor de p es menor que .05, concluiríamos que existe una correlación estadísticamente significativa entre las dos variables."
      ],
      "metadata": {
        "id": "Tc2UMFxdsv_2"
      }
    },
    {
      "cell_type": "code",
      "source": [
        "from scipy.stats.stats import pearsonr\n",
        "\n",
        "pearsonr (df['home_score'], df['away_score'])"
      ],
      "metadata": {
        "colab": {
          "base_uri": "https://localhost:8080/"
        },
        "id": "CTLQ5pjKrhit",
        "outputId": "5d364fe3-2f79-46f1-eca7-d8d5cc9727a9"
      },
      "execution_count": 54,
      "outputs": [
        {
          "output_type": "execute_result",
          "data": {
            "text/plain": [
              "(-0.13513967989861936, 2.5208049949778622e-167)"
            ]
          },
          "metadata": {},
          "execution_count": 54
        }
      ]
    },
    {
      "cell_type": "markdown",
      "source": [
        "https://statologos.com/correlacion-en-python/#:~:text=Para%20calcular%20la%20correlaci%C3%B3n%20entre,0%20y%2010%20var1%20%3D%20np.\n",
        "\n",
        "Cómo calcular la correlación en Python"
      ],
      "metadata": {
        "id": "lgzVJ27ZsOAi"
      }
    },
    {
      "cell_type": "code",
      "source": [
        "import seaborn as sns \n",
        "import matplotlib.pyplot as plt\n",
        "\n",
        "f, ax = plt.subplots(figsize=(15,16))\n",
        "\n",
        "\n",
        "sns.axes_style( )  \n",
        "sns.scatterplot( 'home_score', 'away_score', data= df,  palette=\"deep\")"
      ],
      "metadata": {
        "colab": {
          "base_uri": "https://localhost:8080/",
          "height": 950
        },
        "id": "r1CZZA0Ar2rj",
        "outputId": "22fc65d3-8505-4d9e-86fd-4b48849499e1"
      },
      "execution_count": 55,
      "outputs": [
        {
          "output_type": "execute_result",
          "data": {
            "text/plain": [
              "<matplotlib.axes._subplots.AxesSubplot at 0x7f228d619690>"
            ]
          },
          "metadata": {},
          "execution_count": 55
        },
        {
          "output_type": "display_data",
          "data": {
            "text/plain": [
              "<Figure size 1080x1152 with 1 Axes>"
            ],
            "image/png": "[encoded data removed]"
          },
          "metadata": {
            "needs_background": "light"
          }
        }
      ]
    },
    {
      "cell_type": "code",
      "source": [
        "df.corr ()"
      ],
      "metadata": {
        "colab": {
          "base_uri": "https://localhost:8080/",
          "height": 143
        },
        "id": "aZveE9uqucud",
        "outputId": "3c48faad-98eb-4fa2-dd65-d1b82a86cae0"
      },
      "execution_count": 58,
      "outputs": [
        {
          "output_type": "execute_result",
          "data": {
            "text/plain": [
              "            home_score  away_score   neutral\n",
              "home_score     1.00000   -0.135140 -0.031260\n",
              "away_score    -0.13514    1.000000  0.084807\n",
              "neutral       -0.03126    0.084807  1.000000"
            ],
            "text/html": [
              "\n",
              "  <div id=\"df-3cfd9644-6b5e-4ca1-b283-7551a7606a68\">\n",
              "    <div class=\"colab-df-container\">\n",
              "      <div>\n",
              "<style scoped>\n",
              "    .dataframe tbody tr th:only-of-type {\n",
              "        vertical-align: middle;\n",
              "    }\n",
              "\n",
              "    .dataframe tbody tr th {\n",
              "        vertical-align: top;\n",
              "    }\n",
              "\n",
              "    .dataframe thead th {\n",
              "        text-align: right;\n",
              "    }\n",
              "</style>\n",
              "<table border=\"1\" class=\"dataframe\">\n",
              "  <thead>\n",
              "    <tr style=\"text-align: right;\">\n",
              "      <th></th>\n",
              "      <th>home_score</th>\n",
              "      <th>away_score</th>\n",
              "      <th>neutral</th>\n",
              "    </tr>\n",
              "  </thead>\n",
              "  <tbody>\n",
              "    <tr>\n",
              "      <th>home_score</th>\n",
              "      <td>1.00000</td>\n",
              "      <td>-0.135140</td>\n",
              "      <td>-0.031260</td>\n",
              "    </tr>\n",
              "    <tr>\n",
              "      <th>away_score</th>\n",
              "      <td>-0.13514</td>\n",
              "      <td>1.000000</td>\n",
              "      <td>0.084807</td>\n",
              "    </tr>\n",
              "    <tr>\n",
              "      <th>neutral</th>\n",
              "      <td>-0.03126</td>\n",
              "      <td>0.084807</td>\n",
              "      <td>1.000000</td>\n",
              "    </tr>\n",
              "  </tbody>\n",
              "</table>\n",
              "</div>\n",
              "      <button class=\"colab-df-convert\" onclick=\"convertToInteractive('df-3cfd9644-6b5e-4ca1-b283-7551a7606a68')\"\n",
              "              title=\"Convert this dataframe to an interactive table.\"\n",
              "              style=\"display:none;\">\n",
              "        \n",
              "  <svg xmlns=\"http://www.w3.org/2000/svg\" height=\"24px\"viewBox=\"0 0 24 24\"\n",
              "       width=\"24px\">\n",
              "    <path d=\"M0 0h24v24H0V0z\" fill=\"none\"/>\n",
              "    <path d=\"M18.56 5.44l.94 2.06.94-2.06 2.06-.94-2.06-.94-.94-2.06-.94 2.06-2.06.94zm-11 1L8.5 8.5l.94-2.06 2.06-.94-2.06-.94L8.5 2.5l-.94 2.06-2.06.94zm10 10l.94 2.06.94-2.06 2.06-.94-2.06-.94-.94-2.06-.94 2.06-2.06.94z\"/><path d=\"M17.41 7.96l-1.37-1.37c-.4-.4-.92-.59-1.43-.59-.52 0-1.04.2-1.43.59L10.3 9.45l-7.72 7.72c-.78.78-.78 2.05 0 2.83L4 21.41c.39.39.9.59 1.41.59.51 0 1.02-.2 1.41-.59l7.78-7.78 2.81-2.81c.8-.78.8-2.07 0-2.86zM5.41 20L4 18.59l7.72-7.72 1.47 1.35L5.41 20z\"/>\n",
              "  </svg>\n",
              "      </button>\n",
              "      \n",
              "  <style>\n",
              "    .colab-df-container {\n",
              "      display:flex;\n",
              "      flex-wrap:wrap;\n",
              "      gap: 12px;\n",
              "    }\n",
              "\n",
              "    .colab-df-convert {\n",
              "      background-color: #E8F0FE;\n",
              "      border: none;\n",
              "      border-radius: 50%;\n",
              "      cursor: pointer;\n",
              "      display: none;\n",
              "      fill: #1967D2;\n",
              "      height: 32px;\n",
              "      padding: 0 0 0 0;\n",
              "      width: 32px;\n",
              "    }\n",
              "\n",
              "    .colab-df-convert:hover {\n",
              "      background-color: #E2EBFA;\n",
              "      box-shadow: 0px 1px 2px rgba(60, 64, 67, 0.3), 0px 1px 3px 1px rgba(60, 64, 67, 0.15);\n",
              "      fill: #174EA6;\n",
              "    }\n",
              "\n",
              "    [theme=dark] .colab-df-convert {\n",
              "      background-color: #3B4455;\n",
              "      fill: #D2E3FC;\n",
              "    }\n",
              "\n",
              "    [theme=dark] .colab-df-convert:hover {\n",
              "      background-color: #434B5C;\n",
              "      box-shadow: 0px 1px 3px 1px rgba(0, 0, 0, 0.15);\n",
              "      filter: drop-shadow(0px 1px 2px rgba(0, 0, 0, 0.3));\n",
              "      fill: #FFFFFF;\n",
              "    }\n",
              "  </style>\n",
              "\n",
              "      <script>\n",
              "        const buttonEl =\n",
              "          document.querySelector('#df-3cfd9644-6b5e-4ca1-b283-7551a7606a68 button.colab-df-convert');\n",
              "        buttonEl.style.display =\n",
              "          google.colab.kernel.accessAllowed ? 'block' : 'none';\n",
              "\n",
              "        async function convertToInteractive(key) {\n",
              "          const element = document.querySelector('#df-3cfd9644-6b5e-4ca1-b283-7551a7606a68');\n",
              "          const dataTable =\n",
              "            await google.colab.kernel.invokeFunction('convertToInteractive',\n",
              "                                                     [key], {});\n",
              "          if (!dataTable) return;\n",
              "\n",
              "          const docLinkHtml = 'Like what you see? Visit the ' +\n",
              "            '<a target=\"_blank\" href=https://colab.research.google.com/notebooks/data_table.ipynb>data table notebook</a>'\n",
              "            + ' to learn more about interactive tables.';\n",
              "          element.innerHTML = '';\n",
              "          dataTable['output_type'] = 'display_data';\n",
              "          await google.colab.output.renderOutput(dataTable, element);\n",
              "          const docLink = document.createElement('div');\n",
              "          docLink.innerHTML = docLinkHtml;\n",
              "          element.appendChild(docLink);\n",
              "        }\n",
              "      </script>\n",
              "    </div>\n",
              "  </div>\n",
              "  "
            ]
          },
          "metadata": {},
          "execution_count": 58
        }
      ]
    },
    {
      "cell_type": "markdown",
      "source": [
        "# Nivell 3\n",
        "- Exercici 4\n",
        "\n",
        "\n",
        "Continuant amb les dades de tema esportiu, selecciona un atribut i calcula la mitjana geomètrica i la mitjana harmònica.\n",
        "\n",
        "\n",
        "La media armónica se corresponde con el recíproco de la media aritmética de los inversos de los datos. Dicho de otro modo, la media armónica de tres valores (x, y, z) será equivalente a 3/(1/x+1/y+1/z).\n",
        "\n",
        "\n",
        "![image.png](data:image/png;base64,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)"
      ],
      "metadata": {
        "id": "azF4OavTthA4"
      }
    },
    {
      "cell_type": "code",
      "source": [
        "import statistics \n",
        "\n",
        "res = statistics.geometric_mean(df['away_score'], 1)  \n",
        "  \n",
        "print(\"The geometric mean of list is : \" + str(res)) "
      ],
      "metadata": {
        "colab": {
          "base_uri": "https://localhost:8080/",
          "height": 235
        },
        "id": "WRxP1Ly0xLaL",
        "outputId": "4cc5b6a7-a432-41d3-bca5-e69f003d4080"
      },
      "execution_count": 64,
      "outputs": [
        {
          "output_type": "error",
          "ename": "AttributeError",
          "evalue": "ignored",
          "traceback": [
            "\u001b[0;31m---------------------------------------------------------------------------\u001b[0m",
            "\u001b[0;31mAttributeError\u001b[0m                            Traceback (most recent call last)",
            "\u001b[0;32m<ipython-input-64-6104ef71f560>\u001b[0m in \u001b[0;36m<module>\u001b[0;34m()\u001b[0m\n\u001b[1;32m      1\u001b[0m \u001b[0;32mimport\u001b[0m \u001b[0mstatistics\u001b[0m\u001b[0;34m\u001b[0m\u001b[0;34m\u001b[0m\u001b[0m\n\u001b[1;32m      2\u001b[0m \u001b[0;34m\u001b[0m\u001b[0m\n\u001b[0;32m----> 3\u001b[0;31m \u001b[0mres\u001b[0m \u001b[0;34m=\u001b[0m \u001b[0mstatistics\u001b[0m\u001b[0;34m.\u001b[0m\u001b[0mgeometric_mean\u001b[0m\u001b[0;34m(\u001b[0m\u001b[0mdf\u001b[0m\u001b[0;34m[\u001b[0m\u001b[0;34m'away_score'\u001b[0m\u001b[0;34m]\u001b[0m\u001b[0;34m,\u001b[0m \u001b[0;36m1\u001b[0m\u001b[0;34m)\u001b[0m\u001b[0;34m\u001b[0m\u001b[0;34m\u001b[0m\u001b[0m\n\u001b[0m\u001b[1;32m      4\u001b[0m \u001b[0;34m\u001b[0m\u001b[0m\n\u001b[1;32m      5\u001b[0m \u001b[0mprint\u001b[0m\u001b[0;34m(\u001b[0m\u001b[0;34m\"The geometric mean of list is : \"\u001b[0m \u001b[0;34m+\u001b[0m \u001b[0mstr\u001b[0m\u001b[0;34m(\u001b[0m\u001b[0mres\u001b[0m\u001b[0;34m)\u001b[0m\u001b[0;34m)\u001b[0m\u001b[0;34m\u001b[0m\u001b[0;34m\u001b[0m\u001b[0m\n",
            "\u001b[0;31mAttributeError\u001b[0m: module 'statistics' has no attribute 'geometric_mean'"
          ]
        }
      ]
    },
    {
      "cell_type": "code",
      "source": [
        "from scipy.stats import gmean\n",
        "gmean(df['away_score'])"
      ],
      "metadata": {
        "colab": {
          "base_uri": "https://localhost:8080/"
        },
        "id": "O4rWRXQrxlJ6",
        "outputId": "0c3cdeab-9195-4bb5-ab47-a8cf9194194d"
      },
      "execution_count": 65,
      "outputs": [
        {
          "output_type": "execute_result",
          "data": {
            "text/plain": [
              "0.0"
            ]
          },
          "metadata": {},
          "execution_count": 65
        }
      ]
    },
    {
      "cell_type": "code",
      "source": [
        "df['away_score'].mean()"
      ],
      "metadata": {
        "colab": {
          "base_uri": "https://localhost:8080/"
        },
        "id": "blKeR7m7xyUA",
        "outputId": "864831e9-6827-479f-bc35-1d2c16969d4c"
      },
      "execution_count": 66,
      "outputs": [
        {
          "output_type": "execute_result",
          "data": {
            "text/plain": [
              "1.1893169750018184"
            ]
          },
          "metadata": {},
          "execution_count": 66
        }
      ]
    },
    {
      "cell_type": "code",
      "source": [
        "import statistics \n",
        "\n",
        "res = statistics.harmonic_mean(df['away_score']) \n",
        "  \n",
        "print(\"La media armónica: \" + str(res)) "
      ],
      "metadata": {
        "colab": {
          "base_uri": "https://localhost:8080/"
        },
        "id": "V5ZHxYrtvWXi",
        "outputId": "3644b532-5db4-46a0-9088-a70d2bdaef2e"
      },
      "execution_count": 62,
      "outputs": [
        {
          "output_type": "stream",
          "name": "stdout",
          "text": [
            "The harmomin mean of list is : 0\n"
          ]
        }
      ]
    },
    {
      "cell_type": "code",
      "source": [
        ""
      ],
      "metadata": {
        "id": "l_TmBkHxvnsH"
      },
      "execution_count": null,
      "outputs": []
    },
    {
      "cell_type": "markdown",
      "source": [
        "La media armónica no tiene un uso muy extenso en el mundo científico. Suele utilizarse principalmente para calcular la media de velocidades, tiempos o en electrónica."
      ],
      "metadata": {
        "id": "2pcnyNFQw1Qr"
      }
    }
  ]
}